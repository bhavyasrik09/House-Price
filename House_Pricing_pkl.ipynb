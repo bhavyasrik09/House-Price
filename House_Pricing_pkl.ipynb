{
  "nbformat": 4,
  "nbformat_minor": 0,
  "metadata": {
    "colab": {
      "provenance": []
    },
    "kernelspec": {
      "name": "python3",
      "display_name": "Python 3"
    },
    "language_info": {
      "name": "python"
    }
  },
  "cells": [
    {
      "cell_type": "code",
      "execution_count": null,
      "metadata": {
        "colab": {
          "base_uri": "https://localhost:8080/"
        },
        "id": "oMUmxbsQeEeY",
        "outputId": "027cf898-86c6-4644-8f31-999dd4bc69b7"
      },
      "outputs": [
        {
          "output_type": "stream",
          "name": "stdout",
          "text": [
            "Enter House ID: 2\n",
            "Enter number of Bedrooms: 2\n",
            "Enter number of Bathrooms: 2\n",
            "Enter Size in Square Feet: 440\n",
            "Enter Location (use an index or code): 2\n",
            "Enter Year Built: 1990\n",
            "Enter number of Garage spaces: 2\n",
            "Predicted House Price: 1101901.4595084959\n"
          ]
        },
        {
          "output_type": "stream",
          "name": "stderr",
          "text": [
            "/usr/local/lib/python3.10/dist-packages/sklearn/base.py:465: UserWarning: X does not have valid feature names, but LinearRegression was fitted with feature names\n",
            "  warnings.warn(\n"
          ]
        }
      ],
      "source": [
        "import numpy as np\n",
        "import joblib\n",
        "import pandas as pd\n",
        "\n",
        "\n",
        "def get_input(prompt, valid_values=None, input_type=float):\n",
        "    while True:\n",
        "        try:\n",
        "            user_input = input_type(input(prompt))\n",
        "            if valid_values and user_input not in valid_values:\n",
        "                raise ValueError(f\"Input must be one of {valid_values}.\")\n",
        "            return user_input\n",
        "        except ValueError as e:\n",
        "            print(f\"Invalid input. {e}\")\n",
        "\n",
        "house_id = get_input('Enter House ID: ', input_type=int)\n",
        "bedrooms = get_input('Enter number of Bedrooms: ', input_type=int)\n",
        "bathrooms = get_input('Enter number of Bathrooms: ', input_type=float)\n",
        "size_sqft = get_input('Enter Size in Square Feet: ', input_type=float)\n",
        "location = get_input('Enter Location (use an index or code): ', input_type=int)\n",
        "year_built = get_input('Enter Year Built: ', input_type=int)\n",
        "garage = get_input('Enter number of Garage spaces: ', input_type=int)\n",
        "\n",
        "\n",
        "input_data = np.array([[house_id, bedrooms, bathrooms, size_sqft, location, year_built, garage]])\n",
        "\n",
        "\n",
        "model_path = '/content/uncleaned_house_prices.csv.pkl'  # Update with the path to your model\n",
        "try:\n",
        "    model = joblib.load(model_path)\n",
        "except Exception as e:\n",
        "    print(f\"An error occurred while loading the model: {e}\")\n",
        "\n",
        "try:\n",
        "    prediction = model.predict(input_data)\n",
        "\n",
        "    print('Predicted House Price:', prediction[0])\n",
        "except Exception as e:\n",
        "    print(f\"An error occurred during prediction: {e}\")\n"
      ]
    }
  ]
}